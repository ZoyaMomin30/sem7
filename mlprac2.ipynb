{
 "cells": [
  {
   "cell_type": "markdown",
   "id": "a085aa81-d5b7-47e9-9a0b-d242392e1d19",
   "metadata": {},
   "source": [
    "***LOGISTIC REGRESSION***"
   ]
  },
  {
   "cell_type": "code",
   "execution_count": 1,
   "id": "73d6d932-eb3c-4cd8-8e59-90ff4a7355c1",
   "metadata": {},
   "outputs": [],
   "source": [
    "import numpy as np\n",
    "import pandas as pd\n",
    "import matplotlib.pyplot as plt\n",
    "from sklearn.model_selection import train_test_split\n",
    "from sklearn.linear_model import LogisticRegression\n",
    "from sklearn.metrics import classification_report, accuracy_score, confusion_matrix"
   ]
  },
  {
   "cell_type": "code",
   "execution_count": 2,
   "id": "7686eb6d-bd25-4eec-ac48-b7f4e3b2929d",
   "metadata": {},
   "outputs": [],
   "source": [
    "# Sample dataset (can replace with CSV)\n",
    "data = {\n",
    "    'Age': [22, 25, 47, 52, 46, 56, 55, 60, 62, 61],\n",
    "    'Salary': [15000, 29000, 48000, 60000, 52000, 61000, 58000, 63000, 64000, 65000],\n",
    "    'Purchased': [0, 0, 1, 1, 1, 1, 1, 1, 1, 1]\n",
    "}"
   ]
  },
  {
   "cell_type": "code",
   "execution_count": 3,
   "id": "be4ccf97-817c-435e-aea2-bf164b2d829a",
   "metadata": {},
   "outputs": [],
   "source": [
    "# Convert to DataFrame\n",
    "df = pd.DataFrame(data)\n",
    "\n",
    "# Independent and Dependent variables\n",
    "X = df[['Age', 'Salary']]  # Features\n",
    "y = df['Purchased']        # Target"
   ]
  },
  {
   "cell_type": "code",
   "execution_count": 4,
   "id": "8d776520-9b08-4090-94fc-30dbb92339bb",
   "metadata": {},
   "outputs": [],
   "source": [
    "# Split the data into training and testing sets\n",
    "X_train, X_test, y_train, y_test = train_test_split(X, y, test_size=0.2, random_state=42)\n",
    "\n",
    "# Create logistic regression model\n",
    "model = LogisticRegression()\n",
    "\n",
    "# Train the model\n",
    "model.fit(X_train, y_train)\n",
    "\n",
    "# Predict on test data\n",
    "y_pred = model.predict(X_test)"
   ]
  },
  {
   "cell_type": "code",
   "execution_count": 5,
   "id": "865daa5f-3e4c-4efa-8199-a0006e920bc2",
   "metadata": {},
   "outputs": [
    {
     "name": "stdout",
     "output_type": "stream",
     "text": [
      "Confusion Matrix:\n",
      " [[1 0]\n",
      " [0 1]]\n",
      "\n",
      "Accuracy Score: 1.0\n",
      "\n",
      "Classification Report:\n",
      "               precision    recall  f1-score   support\n",
      "\n",
      "           0       1.00      1.00      1.00         1\n",
      "           1       1.00      1.00      1.00         1\n",
      "\n",
      "    accuracy                           1.00         2\n",
      "   macro avg       1.00      1.00      1.00         2\n",
      "weighted avg       1.00      1.00      1.00         2\n",
      "\n"
     ]
    }
   ],
   "source": [
    "# Evaluation\n",
    "print(\"Confusion Matrix:\\n\", confusion_matrix(y_test, y_pred))\n",
    "print(\"\\nAccuracy Score:\", accuracy_score(y_test, y_pred))\n",
    "print(\"\\nClassification Report:\\n\", classification_report(y_test, y_pred))"
   ]
  },
  {
   "cell_type": "code",
   "execution_count": 6,
   "id": "ced11cac-880d-44db-a6b0-edbc5866c5b6",
   "metadata": {},
   "outputs": [
    {
     "name": "stdout",
     "output_type": "stream",
     "text": [
      "\n",
      "Prediction for Age=30 & Salary=40000: Purchased\n"
     ]
    }
   ],
   "source": [
    "new_person = pd.DataFrame([[30, 40000]], columns=['Age', 'Salary'])\n",
    "prediction = model.predict(new_person)\n",
    "\n",
    "print(\"\\nPrediction for Age=30 & Salary=40000:\", \"Purchased\" if prediction[0] == 1 else \"Not Purchased\")"
   ]
  }
 ],
 "metadata": {
  "kernelspec": {
   "display_name": "Python 3 (ipykernel)",
   "language": "python",
   "name": "python3"
  },
  "language_info": {
   "codemirror_mode": {
    "name": "ipython",
    "version": 3
   },
   "file_extension": ".py",
   "mimetype": "text/x-python",
   "name": "python",
   "nbconvert_exporter": "python",
   "pygments_lexer": "ipython3",
   "version": "3.12.6"
  }
 },
 "nbformat": 4,
 "nbformat_minor": 5
}
